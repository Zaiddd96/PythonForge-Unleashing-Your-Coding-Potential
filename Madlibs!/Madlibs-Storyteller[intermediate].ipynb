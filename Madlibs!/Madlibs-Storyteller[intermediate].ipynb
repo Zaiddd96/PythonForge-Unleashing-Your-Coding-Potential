{
 "cells": [
  {
   "cell_type": "code",
   "execution_count": 5,
   "id": "a6953e3e-c353-4ab4-aa04-0565833d31e2",
   "metadata": {},
   "outputs": [
    {
     "name": "stdin",
     "output_type": "stream",
     "text": [
      "Enter a word for <pronoun>:  hell\n",
      "Enter a word for <verb>:  ass\n",
      "Enter a word for <noun>:  more\n",
      "Enter a word for <adjective>:  did\n",
      "Enter a word for <verb ending in -ing>:  giving\n",
      "Enter a word for <superhero name>:  carlos\n",
      "Enter a word for <occupation>:  assasin\n"
     ]
    }
   ],
   "source": [
    "import pyttsx3\n",
    "\n",
    "def Madlib_generator():\n",
    "    with open('comic.txt','r') as f:\n",
    "        story = f.read()\n",
    "    \n",
    "        words = set()\n",
    "        stword = -1\n",
    "        \n",
    "        goal_start = \"<\"\n",
    "        goal_end = \">\"\n",
    "        \n",
    "        for i, char in enumerate(story):\n",
    "            if char == goal_start:\n",
    "                stword = i\n",
    "        \n",
    "            if char == goal_end and stword != -1:\n",
    "                word = story[stword: i + 1]\n",
    "                words.add(word)\n",
    "                stword = -1\n",
    "        \n",
    "        answers = {}\n",
    "        \n",
    "        for word in words:\n",
    "            answer = input(\"Enter a word for \" + word + \": \")\n",
    "            answers[word] = answer\n",
    "        \n",
    "        for word in words:\n",
    "            story = story.replace(word, answers[word])\n",
    "        \n",
    "        engine = pyttsx3.init()\n",
    "        engine.say(story)\n",
    "        engine.runAndWait()\n",
    "\n",
    "Madlib_generator()\n"
   ]
  },
  {
   "cell_type": "code",
   "execution_count": 1,
   "id": "4be9e0ad-43d3-4dfd-9102-5fb555c1c078",
   "metadata": {},
   "outputs": [
    {
     "name": "stdout",
     "output_type": "stream",
     "text": [
      "Requirement already satisfied: pyttsx3 in c:\\users\\hp\\appdata\\local\\programs\\python\\python312\\lib\\site-packages (2.90)\n",
      "Requirement already satisfied: comtypes in c:\\users\\hp\\appdata\\local\\programs\\python\\python312\\lib\\site-packages (from pyttsx3) (1.2.1)\n",
      "Requirement already satisfied: pypiwin32 in c:\\users\\hp\\appdata\\local\\programs\\python\\python312\\lib\\site-packages (from pyttsx3) (223)\n",
      "Requirement already satisfied: pywin32 in c:\\users\\hp\\appdata\\local\\programs\\python\\python312\\lib\\site-packages (from pyttsx3) (306)\n"
     ]
    },
    {
     "name": "stderr",
     "output_type": "stream",
     "text": [
      "\n",
      "[notice] A new release of pip is available: 23.3.2 -> 24.0\n",
      "[notice] To update, run: python.exe -m pip install --upgrade pip\n"
     ]
    }
   ],
   "source": [
    "!pip install pyttsx3"
   ]
  }
 ],
 "metadata": {
  "kernelspec": {
   "display_name": "Python 3 (ipykernel)",
   "language": "python",
   "name": "python3"
  },
  "language_info": {
   "codemirror_mode": {
    "name": "ipython",
    "version": 3
   },
   "file_extension": ".py",
   "mimetype": "text/x-python",
   "name": "python",
   "nbconvert_exporter": "python",
   "pygments_lexer": "ipython3",
   "version": "3.12.1"
  }
 },
 "nbformat": 4,
 "nbformat_minor": 5
}
