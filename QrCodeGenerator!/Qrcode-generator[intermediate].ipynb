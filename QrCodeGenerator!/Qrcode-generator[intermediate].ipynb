{
 "cells": [
  {
   "cell_type": "code",
   "execution_count": 4,
   "id": "1e771764-567a-407c-af01-b57cdf114346",
   "metadata": {},
   "outputs": [
    {
     "name": "stdin",
     "output_type": "stream",
     "text": [
      "enter link https://in.bookmyshow.com/movies/demon-slayer-kimetsu-no-yaiba-to-the-hashira-training/ET00388033\n"
     ]
    }
   ],
   "source": [
    "import qrcode as qr\n",
    "import re\n",
    "\n",
    "def Authenticate_URL(url): # Using re Module to validate the url!\n",
    "    regex = \"^((http|https)://)[-a-zA-Z0-9@:%._\\\\+~#?&//=]{2,256}\\\\.[a-z]{2,6}\\\\b([-a-zA-Z0-9@:%._\\\\+~#?&//=]*)$\"\n",
    "    format = re.compile(regex)\n",
    "    result = format.match(url)\n",
    "    return result\n",
    "    \n",
    "\n",
    "def Create_Qr(): # Create Qr for a valid link!\n",
    "    while True:\n",
    "        user = input(\"Enter the link for creating a QRcode: \")\n",
    "        if type(user) != str or not Authenticate_URL(user):\n",
    "            print(\"Enter valid link\")\n",
    "            continue\n",
    "        else:\n",
    "            return user\n",
    "\n",
    "\n",
    "QR = qr.make(Create_Qr())\n",
    "QR.save(\"qr.png\")\n"
   ]
  },
  {
   "cell_type": "code",
   "execution_count": 5,
   "id": "63e2099a-b091-4505-b410-9d2ae7211293",
   "metadata": {},
   "outputs": [
    {
     "name": "stderr",
     "output_type": "stream",
     "text": [
      "ERROR: Could not find a version that satisfies the requirement PIL (from versions: none)\n",
      "ERROR: No matching distribution found for PIL\n"
     ]
    }
   ],
   "source": [
    "!pip install PIL"
   ]
  }
 ],
 "metadata": {
  "kernelspec": {
   "display_name": "Python 3 (ipykernel)",
   "language": "python",
   "name": "python3"
  },
  "language_info": {
   "codemirror_mode": {
    "name": "ipython",
    "version": 3
   },
   "file_extension": ".py",
   "mimetype": "text/x-python",
   "name": "python",
   "nbconvert_exporter": "python",
   "pygments_lexer": "ipython3",
   "version": "3.12.1"
  }
 },
 "nbformat": 4,
 "nbformat_minor": 5
}
